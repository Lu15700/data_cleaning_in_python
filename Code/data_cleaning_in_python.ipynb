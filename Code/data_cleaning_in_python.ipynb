{
 "cells": [
  {
   "cell_type": "code",
   "execution_count": null,
   "metadata": {},
   "outputs": [],
   "source": [
    "# Imports and File Reading\n",
    "import pandas as pd\n",
    "\n",
    "import_path = r\"<IMPORT PATH>\"\n",
    "\n",
    "df = pd.read_csv(import_path)"
   ]
  },
  {
   "cell_type": "markdown",
   "metadata": {},
   "source": [
    "## Phase 1"
   ]
  },
  {
   "cell_type": "code",
   "execution_count": null,
   "metadata": {},
   "outputs": [],
   "source": [
    "# Print Column Names\n",
    "def print_column_names():\n",
    "  for col in df.columns:\n",
    "    print(col)\n",
    "\n",
    "print_column_names()"
   ]
  },
  {
   "cell_type": "code",
   "execution_count": null,
   "metadata": {},
   "outputs": [],
   "source": [
    "# Improve Column Names\n",
    "\n",
    "# Rename Columns\n",
    "df.rename(columns = {\n",
    "  \"Sales_Order #\": \"order_id\",\n",
    "  \"Order_Quantity\": \"order_quantity\",\n",
    "  \"Revenue\": \"order_revenue\",\n",
    "  \" Cost \": \"order_cost\",\n",
    "  \" Profit \": \"order_profit\",\n",
    "\n",
    "  \"Date\": \"order_date\",\n",
    "  \"Month\": \"order_month\",\n",
    "  \"Day\": \"order_day\",\n",
    "  \"Year\": \"order_year\",\n",
    "\n",
    "  \" Unit_Cost \": \"product_cost\",\n",
    "  \" Unit_Price \": \"product_price\",\n",
    "  \"Product_Description\": \"product_description\",\n",
    "  \"Product_Category\": \"product_category\",\n",
    "  \"Sub_Category\": \"product_subcategory\",\n",
    "\n",
    "  \"Customer_Age\": \"customer_age\",\n",
    "  \"Age_Group\": \"customer_age_group\",\n",
    "  \"Customer_Gender\": \"customer_gender\",\n",
    "  \"Country\": \"customer_country\",\n",
    "  \"State\": \"customer_state\"\n",
    "  }, inplace= True)\n",
    "\n",
    "# Strip Whitespace from Column Names\n",
    "df.columns = df.columns.str.strip()\n",
    "\n",
    "# Convert Column Names to Lowercase\n",
    "df.columns = df.columns.str.lower()\n",
    "\n",
    "# Print Column Names Again\n",
    "print_column_names()"
   ]
  },
  {
   "cell_type": "code",
   "execution_count": null,
   "metadata": {},
   "outputs": [],
   "source": [
    "# Separate Columns\n",
    "df[[\"product_model\", \"product_size\"]] = df[\"product_description\"].str.split(\",\", expand= True)\n",
    "df[[\"product_model\", \"product_color\"]] = df[\"product_model\"].str.split(\" \", expand= True)\n",
    "df = df.drop(\"product_description\", axis= 1)\n",
    "\n",
    "# Print Dataframe\n",
    "df.head(20)"
   ]
  },
  {
   "cell_type": "code",
   "execution_count": null,
   "metadata": {},
   "outputs": [],
   "source": [
    "# Rearrange Columns\n",
    "columns = [\n",
    "  \"order_id\",\n",
    "  \n",
    "  \"order_quantity\",\n",
    "  \"order_revenue\",\n",
    "  \"order_cost\",\n",
    "  \"order_profit\",\n",
    "  \n",
    "  \"order_date\",\n",
    "  \"order_month\",\n",
    "  \"order_day\",\n",
    "  \"order_year\",\n",
    "  \n",
    "  \"product_cost\",\n",
    "  \"product_price\",\n",
    "  \"product_model\",\n",
    "  \"product_color\",\n",
    "  \"product_size\",\n",
    "  \"product_category\",\n",
    "  \"product_subcategory\",\n",
    "  \n",
    "  \"customer_age\",\n",
    "  \"customer_age_group\",\n",
    "  \"customer_gender\",\n",
    "  \"customer_country\",\n",
    "  \"customer_state\",\n",
    "]\n",
    "\n",
    "df = df[columns]\n",
    "\n",
    "# Print Result\n",
    "print_column_names()"
   ]
  },
  {
   "cell_type": "markdown",
   "metadata": {},
   "source": [
    "## Phase 2"
   ]
  },
  {
   "cell_type": "code",
   "execution_count": null,
   "metadata": {},
   "outputs": [],
   "source": [
    "# Print Data Types\n",
    "print(df.dtypes)"
   ]
  },
  {
   "cell_type": "code",
   "execution_count": null,
   "metadata": {},
   "outputs": [],
   "source": [
    "# Improve Data Types\n",
    "\n",
    "# Type Casting\n",
    "df[\"order_revenue\"] = df[\"order_revenue\"].astype(float)\n",
    "df[\"order_cost\"] = df[\"order_cost\"].astype(float)\n",
    "df[\"order_profit\"] = df[\"order_profit\"].astype(float)\n",
    "df[\"product_cost\"] = df[\"product_cost\"].astype(float)\n",
    "df[\"product_price\"] = df[\"product_price\"].astype(float)\n",
    "\n",
    "# Print Data Types Again\n",
    "print(df.dtypes)"
   ]
  },
  {
   "cell_type": "code",
   "execution_count": null,
   "metadata": {},
   "outputs": [],
   "source": [
    "# Improve Data Types\n",
    "\n",
    "# Print Empties\n",
    "def print_empties():\n",
    "  pd.set_option(\"display.max_rows\", None)\n",
    "  pd.set_option(\"display.max_columns\", None)\n",
    "  pd.set_option(\"display.width\", 1000)\n",
    "  pd.set_option(\"display.colheader_justify\", \"center\")\n",
    "  pd.set_option(\"display.precision\", 3)\n",
    "  # https://www.stackvidhya.com/pretty-print-dataframe\n",
    "\n",
    "  empties = df[df.isnull().any(axis= 1)]\n",
    "  \n",
    "  print(empties)\n",
    "\n",
    "print_empties()"
   ]
  },
  {
   "cell_type": "code",
   "execution_count": null,
   "metadata": {},
   "outputs": [],
   "source": [
    "# Improve Data Types\n",
    "\n",
    "# Simple Impute Empties: Order Quantity, Product Cost, Product Price, and Customer Age\n",
    "df[\"order_quantity\"] = df[\"order_quantity\"].fillna(df[\"order_quantity\"].median())\n",
    "df[\"product_cost\"] = df[\"product_cost\"].fillna(df[\"product_cost\"].median())\n",
    "df[\"product_price\"] = df[\"product_price\"].fillna(df[\"product_price\"].median())\n",
    "df[\"customer_age\"] = df[\"customer_age\"].fillna(df[\"customer_age\"].median())\n",
    "\n",
    "# Print Empties Again\n",
    "print_empties()"
   ]
  },
  {
   "cell_type": "code",
   "execution_count": null,
   "metadata": {},
   "outputs": [],
   "source": [
    "# Improve Data Types\n",
    "\n",
    "# Figure Order Day\n",
    "order_date_values = []\n",
    "\n",
    "for val in df[\"order_date\"]:\n",
    "  day = val.split(\"/\")[1]\n",
    "  order_date_values.append(day)\n",
    "\n",
    "i = 0\n",
    "for index, row in df.iterrows():\n",
    "  df.at[index, \"order_day\"] = order_date_values[i]\n",
    "  i += 1\n",
    "\n",
    "# Print Empties Again\n",
    "print_empties()"
   ]
  },
  {
   "cell_type": "code",
   "execution_count": null,
   "metadata": {},
   "outputs": [],
   "source": [
    "# Improve Data Types\n",
    "\n",
    "# Figure Customer Age Groups\n",
    "\n",
    "## Create List of Customer Age Values\n",
    "customer_ages = []\n",
    "\n",
    "for val1 in df[\"customer_age\"].values:\n",
    "  customer_ages.append(val1)\n",
    "\n",
    "## Create List of Customer Age Group Values\n",
    "customer_age_groups = []\n",
    "\n",
    "for val2 in df[\"customer_age_group\"].values:\n",
    "  customer_age_groups.append(val2)\n",
    "\n",
    "## Validate Data\n",
    "i = 0\n",
    "while i < len(customer_ages):\n",
    "  if customer_ages[i] <= 24:\n",
    "    df.replace(customer_age_groups[i], {\"customer_age_group\": \"Youth\"}, inplace= True)\n",
    "    i += 1\n",
    "    continue\n",
    "  elif customer_ages[i] in range(25, 34):\n",
    "    df.replace(customer_age_groups[i], {\"customer_age_group\": \"Young Adults\"}, inplace= True)\n",
    "    i += 1\n",
    "    continue\n",
    "  elif customer_ages[i] in range(35, 64):\n",
    "    df.replace(customer_age_groups[i], {\"customer_age_group\": \"Adults\"}, inplace= True)\n",
    "    i += 1\n",
    "    continue\n",
    "  else:\n",
    "    i += 1\n",
    "    continue\n",
    "\n",
    "# Print Empties Again\n",
    "print_empties()\n",
    "\n",
    "# Print Dataframe\n",
    "df.head(20)"
   ]
  },
  {
   "cell_type": "markdown",
   "metadata": {},
   "source": [
    "## Phase 3"
   ]
  },
  {
   "cell_type": "code",
   "execution_count": null,
   "metadata": {},
   "outputs": [],
   "source": [
    "# Validate Order Revenue\n",
    "## Order Revenue = Order Quantity * Product Price\n",
    "\n",
    "## Create List of Order Quantity\n",
    "order_quantity_values = []\n",
    "\n",
    "for val1 in df[\"order_quantity\"].values:\n",
    "  order_quantity_values.append(val1)\n",
    "\n",
    "## Create List of product Price\n",
    "product_price_values = []\n",
    "\n",
    "for val2 in df[\"product_price\"].values:\n",
    "  product_price_values.append(val2)\n",
    "\n",
    "## Validate Data\n",
    "i = 0\n",
    "for index, row in df.iterrows():\n",
    "  order_revenue_value = order_quantity_values[i] * product_price_values[i]\n",
    "  df.at[index, \"order_revenue\"] = order_revenue_value\n",
    "  i += 1\n",
    "\n",
    "# Print Dataframe\n",
    "df.head(20)"
   ]
  },
  {
   "cell_type": "code",
   "execution_count": null,
   "metadata": {},
   "outputs": [],
   "source": [
    "# Validate Order Cost\n",
    "## Order Cost = Order Quantity * Product Cost\n",
    "\n",
    "## Create List of Order Quantity\n",
    "order_quantity_values = []\n",
    "\n",
    "for val1 in df[\"order_quantity\"].values:\n",
    "  order_quantity_values.append(val1)\n",
    "\n",
    "## Create List of Product Price\n",
    "product_price_values = []\n",
    "\n",
    "for val2 in df[\"product_cost\"].values:\n",
    "  product_price_values.append(val2)\n",
    "\n",
    "## Validate Data\n",
    "i = 0\n",
    "for index, row in df.iterrows():\n",
    "  order_cost_value = order_quantity_values[i] * product_price_values[i]\n",
    "  df.at[index, \"order_cost\"] = order_cost_value\n",
    "  i += 1\n",
    "\n",
    "# Print Dataframe\n",
    "df.head(20)"
   ]
  },
  {
   "cell_type": "code",
   "execution_count": null,
   "metadata": {},
   "outputs": [],
   "source": [
    "# Validate Order Profit\n",
    "## Order Profit = Order Revenue - Order Cost\n",
    "\n",
    "## Create List of Order Quantity\n",
    "order_revenue_values = []\n",
    "\n",
    "for val1 in df[\"order_revenue\"].values:\n",
    "  order_revenue_values.append(val1)\n",
    "\n",
    "## Create List of product Price\n",
    "order_cost_values = []\n",
    "\n",
    "for val2 in df[\"product_price\"].values:\n",
    "  order_cost_values.append(val2)\n",
    "\n",
    "## Validate Data\n",
    "i = 0\n",
    "for index, row in df.iterrows():\n",
    "  order_profit_value = order_revenue_values[i] - order_cost_values[i]\n",
    "  df.at[index, \"order_revenue\"] = order_profit_value\n",
    "  i += 1\n",
    "\n",
    "# Print Dataframe\n",
    "df.head(20)"
   ]
  },
  {
   "cell_type": "markdown",
   "metadata": {},
   "source": [
    "## Phase 4"
   ]
  },
  {
   "cell_type": "code",
   "execution_count": null,
   "metadata": {},
   "outputs": [],
   "source": [
    "# Switch Customer Gender Abbreviation to Full Word\n",
    "\n",
    "for val in df[\"customer_gender\"].values:\n",
    "  if val == \"F\":\n",
    "    df.replace(val, {\"customer_gender\": \"Female\"}, inplace= True)\n",
    "  if val == \"M\":\n",
    "    df.replace(val, {\"customer_gender\": \"Male\"}, inplace= True)\n",
    "\n",
    "# Print Dataframe\n",
    "df.head(20)"
   ]
  },
  {
   "cell_type": "markdown",
   "metadata": {},
   "source": [
    "## Phase 5"
   ]
  },
  {
   "cell_type": "code",
   "execution_count": null,
   "metadata": {},
   "outputs": [],
   "source": [
    "# Print Duplicates\n",
    "def print_duplicates():\n",
    "  pd.set_option(\"display.max_rows\", None)\n",
    "  pd.set_option(\"display.max_columns\", None)\n",
    "  pd.set_option(\"display.width\", 1000)\n",
    "  pd.set_option(\"display.colheader_justify\", \"center\")\n",
    "  pd.set_option(\"display.precision\", 3)\n",
    "  # https://www.stackvidhya.com/pretty-print-dataframe\n",
    "\n",
    "  duplicates = df[df.duplicated(keep= \"first\")]\n",
    "\n",
    "  if duplicates.empty:\n",
    "    print(\"No duplicates found.\")\n",
    "  else:\n",
    "    print(duplicates)\n",
    "\n",
    "print_duplicates()"
   ]
  },
  {
   "cell_type": "code",
   "execution_count": null,
   "metadata": {},
   "outputs": [],
   "source": [
    "# Remove Duplicates\n",
    "df.drop_duplicates(subset= \"order_id\", keep= \"first\", inplace= True, ignore_index= True)\n",
    "\n",
    "# Print Duplicates Again\n",
    "print_duplicates()"
   ]
  },
  {
   "cell_type": "code",
   "execution_count": null,
   "metadata": {},
   "outputs": [],
   "source": [
    "# Print Overview of Column Values\n",
    "import pprint\n",
    "\n",
    "## Create List of Columns\n",
    "column_names = []\n",
    "\n",
    "for col in df.columns:\n",
    "  column_names.append(col)\n",
    "\n",
    "## Create List of Lists of Columns and Column Values\n",
    "columns_and_their_values = {}\n",
    "\n",
    "for i in range(len(column_names)):\n",
    "  ## Get Unique Values\n",
    "  column_values = []\n",
    "  \n",
    "  for val in df[column_names[i]].unique():\n",
    "    column_values.append(val)\n",
    "  \n",
    "  ## Save to Dictionary\n",
    "  columns_and_their_values[column_names[i]] = column_values\n",
    "\n",
    "## Print\n",
    "pp = pprint.PrettyPrinter(width= 1000)\n",
    "\n",
    "pp.pprint(columns_and_their_values)"
   ]
  },
  {
   "cell_type": "markdown",
   "metadata": {},
   "source": [
    "## Export as CSV"
   ]
  },
  {
   "cell_type": "code",
   "execution_count": null,
   "metadata": {},
   "outputs": [],
   "source": [
    "# Export as CSV\n",
    "export_path = r\"<EXPORT PATH>\"\n",
    "\n",
    "df.to_csv(export_path)"
   ]
  }
 ],
 "metadata": {
  "kernelspec": {
   "display_name": "Python 3",
   "language": "python",
   "name": "python3"
  },
  "language_info": {
   "codemirror_mode": {
    "name": "ipython",
    "version": 3
   },
   "file_extension": ".py",
   "mimetype": "text/x-python",
   "name": "python",
   "nbconvert_exporter": "python",
   "pygments_lexer": "ipython3",
   "version": "3.11.7"
  }
 },
 "nbformat": 4,
 "nbformat_minor": 2
}
